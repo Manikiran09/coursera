{
 "cells": [
  {
   "cell_type": "code",
   "execution_count": 1,
   "id": "4fa4e8c9",
   "metadata": {},
   "outputs": [],
   "source": [
    "import sqlite3\n",
    "import pandas as pd\n",
    "\n",
    "# --- Step 1: Load CSV and Create SQLite Database ---\n",
    "# Create SQLite database and connect\n",
    "db_file = 'space_launches.db'\n",
    "conn = sqlite3.connect(db_file)\n",
    "cursor = conn.cursor()\n",
    "\n",
    "csv_file = 'final_with_coordinates.csv'\n",
    "df = pd.read_csv(csv_file)\n",
    "# Load CSV data into SQLite table\n",
    "df.to_sql('launches', conn, if_exists='replace', index=False)"
   ]
  },
  {
   "cell_type": "code",
   "execution_count": 2,
   "id": "7b158214",
   "metadata": {},
   "outputs": [
    {
     "data": {
      "text/plain": [
       "<sqlite3.Cursor at 0x2088dd61b90>"
      ]
     },
     "execution_count": 2,
     "metadata": {},
     "output_type": "execute_result"
    }
   ],
   "source": [
    "# Create table with appropriate schema\n",
    "create_table_query = \"\"\"\n",
    "CREATE TABLE IF NOT EXISTS launches (\n",
    "    Unnamed_0 INTEGER,\n",
    "    flight_no INTEGER,\n",
    "    date_and_time_utc TEXT,\n",
    "    version_booster TEXT,\n",
    "    launch_site TEXT,\n",
    "    payload TEXT,\n",
    "    payload_mass REAL,\n",
    "    orbit TEXT,\n",
    "    customer TEXT,\n",
    "    launch_outcome TEXT,\n",
    "    booster_landing TEXT,\n",
    "    date_parsable INTEGER,\n",
    "    year INTEGER,\n",
    "    month INTEGER,\n",
    "    day INTEGER,\n",
    "    hour INTEGER,\n",
    "    rocket_type TEXT,\n",
    "    is_future INTEGER,\n",
    "    days_since_last_launch REAL,\n",
    "    is_starlink INTEGER,\n",
    "    booster_reuse_count INTEGER,\n",
    "    launch_site_encoded TEXT,\n",
    "    payload_mass_category TEXT,\n",
    "    is_crew_mission INTEGER,\n",
    "    orbit_type_encoded TEXT,\n",
    "    is_night_launch INTEGER,\n",
    "    cumulative_launch_count INTEGER,\n",
    "    customer_type TEXT,\n",
    "    launch_success_rate_rolling REAL,\n",
    "    booster_landing_success_rate REAL,\n",
    "    latitude REAL,\n",
    "    longitude REAL\n",
    ");\n",
    "\"\"\"\n",
    "cursor.execute(create_table_query)"
   ]
  },
  {
   "cell_type": "code",
   "execution_count": 3,
   "id": "ab2c064b",
   "metadata": {},
   "outputs": [],
   "source": [
    "# Convert boolean columns to integers (0/1) for SQLite compatibility\n",
    "df['date_parsable'] = df['date_parsable'].astype(int)\n",
    "df['is_future'] = df['is_future'].astype(int)\n",
    "df['is_starlink'] = df['is_starlink'].astype(int)\n",
    "df['is_crew_mission'] = df['is_crew_mission'].astype(int)\n",
    "df['is_night_launch'] = df['is_night_launch'].astype(int)\n"
   ]
  },
  {
   "cell_type": "code",
   "execution_count": 4,
   "id": "df481e3d",
   "metadata": {},
   "outputs": [
    {
     "name": "stdout",
     "output_type": "stream",
     "text": [
      "=== Data Quality Checks ===\n",
      "\n",
      "Missing Values:\n",
      " total_rows  missing_flight_no  missing_date  missing_launch_site  missing_payload_mass  missing_orbit  missing_customer_type  missing_launch_outcome  missing_booster_landing\n",
      "        288                  0             0                    0                     0              0                      0                       0                        0\n"
     ]
    }
   ],
   "source": [
    "# --- Step 2: Data Quality Checks ---\n",
    "print(\"=== Data Quality Checks ===\")\n",
    "\n",
    "# 2.1 Check for missing values\n",
    "missing_values_query = \"\"\"\n",
    "SELECT\n",
    "    COUNT(*) AS total_rows,\n",
    "    SUM(CASE WHEN flight_no IS NULL THEN 1 ELSE 0 END) AS missing_flight_no,\n",
    "    SUM(CASE WHEN date_and_time_utc IS NULL THEN 1 ELSE 0 END) AS missing_date,\n",
    "    SUM(CASE WHEN launch_site IS NULL THEN 1 ELSE 0 END) AS missing_launch_site,\n",
    "    SUM(CASE WHEN payload_mass IS NULL THEN 1 ELSE 0 END) AS missing_payload_mass,\n",
    "    SUM(CASE WHEN orbit IS NULL THEN 1 ELSE 0 END) AS missing_orbit,\n",
    "    SUM(CASE WHEN customer_type IS NULL THEN 1 ELSE 0 END) AS missing_customer_type,\n",
    "    SUM(CASE WHEN launch_outcome IS NULL THEN 1 ELSE 0 END) AS missing_launch_outcome,\n",
    "    SUM(CASE WHEN booster_landing IS NULL THEN 1 ELSE 0 END) AS missing_booster_landing\n",
    "FROM launches;\n",
    "\"\"\"\n",
    "missing_values = pd.read_sql_query(missing_values_query, conn)\n",
    "print(\"\\nMissing Values:\")\n",
    "print(missing_values.to_string(index=False))"
   ]
  },
  {
   "cell_type": "code",
   "execution_count": 5,
   "id": "fa8c25d0",
   "metadata": {},
   "outputs": [],
   "source": [
    "# 2.2 Check for duplicates in flight_no\n",
    "duplicates_query = \"\"\"\n",
    "SELECT flight_no, COUNT(*) AS count\n",
    "FROM launches\n",
    "GROUP BY flight_no\n",
    "HAVING count > 1;\n",
    "\"\"\"\n",
    "duplicates = pd.read_sql_query(duplicates_query, conn)\n",
    "if not duplicates.empty:\n",
    "    print(\"\\nDuplicate Flight Numbers:\")\n",
    "    duplicates_detail_query = \"\"\"\n",
    "    SELECT flight_no, date_and_time_utc, launch_site, payload\n",
    "    FROM launches\n",
    "    WHERE flight_no IN (SELECT flight_no FROM launches GROUP BY flight_no HAVING COUNT(*) > 1)\n",
    "    ORDER BY flight_no;\n",
    "    \"\"\"\n",
    "    print(pd.read_sql_query(duplicates_detail_query, conn).to_string(index=False))"
   ]
  },
  {
   "cell_type": "code",
   "execution_count": 6,
   "id": "0d58753a",
   "metadata": {},
   "outputs": [
    {
     "name": "stdout",
     "output_type": "stream",
     "text": [
      "\n",
      "Basic Statistics:\n",
      " total_launches  min_year  max_year  avg_payload_mass  min_payload_mass  max_payload_mass  unique_launch_sites  unique_customer_types\n",
      "            288      2023      2025          13830.19               758             17500                    3                      3\n"
     ]
    }
   ],
   "source": [
    "# 2.3 Basic statistics\n",
    "stats_query = \"\"\"\n",
    "SELECT\n",
    "    COUNT(*) AS total_launches,\n",
    "    MIN(year) AS min_year,\n",
    "    MAX(year) AS max_year,\n",
    "    ROUND(AVG(payload_mass), 2) AS avg_payload_mass,\n",
    "    MIN(payload_mass) AS min_payload_mass,\n",
    "    MAX(payload_mass) AS max_payload_mass,\n",
    "    COUNT(DISTINCT launch_site) AS unique_launch_sites,\n",
    "    COUNT(DISTINCT customer_type) AS unique_customer_types\n",
    "FROM launches;\n",
    "\"\"\"\n",
    "stats = pd.read_sql_query(stats_query, conn)\n",
    "print(\"\\nBasic Statistics:\")\n",
    "print(stats.to_string(index=False))\n"
   ]
  },
  {
   "cell_type": "code",
   "execution_count": 7,
   "id": "48fcffb3",
   "metadata": {},
   "outputs": [
    {
     "name": "stdout",
     "output_type": "stream",
     "text": [
      "\n",
      "Launches per Year:\n",
      " year  launch_count\n",
      " 2023            91\n",
      " 2024           132\n",
      " 2025            65\n"
     ]
    }
   ],
   "source": [
    "# --- Step 3: Distribution Analysis ---\n",
    "# 3.1 Launch frequency by year\n",
    "yearly_launches_query = \"\"\"\n",
    "SELECT year, COUNT(*) AS launch_count\n",
    "FROM launches\n",
    "GROUP BY year\n",
    "ORDER BY year;\n",
    "\"\"\"\n",
    "yearly_launches = pd.read_sql_query(yearly_launches_query, conn)\n",
    "print(\"\\nLaunches per Year:\")\n",
    "print(yearly_launches.to_string(index=False))"
   ]
  },
  {
   "cell_type": "code",
   "execution_count": 8,
   "id": "7d4e9053",
   "metadata": {},
   "outputs": [
    {
     "name": "stdout",
     "output_type": "stream",
     "text": [
      "\n",
      "Launches by Launch Site:\n",
      "          launch_site  launch_count\n",
      "Cape Canaveral,Slc‑40           147\n",
      "    Vandenberg,Slc‑4E            94\n",
      "       Kennedy,Lc‑39A            47\n"
     ]
    }
   ],
   "source": [
    "# 3.2 Launch site distribution\n",
    "launch_site_query = \"\"\"\n",
    "SELECT launch_site, COUNT(*) AS launch_count\n",
    "FROM launches\n",
    "GROUP BY launch_site\n",
    "ORDER BY launch_count DESC;\n",
    "\"\"\"\n",
    "launch_sites = pd.read_sql_query(launch_site_query, conn)\n",
    "print(\"\\nLaunches by Launch Site:\")\n",
    "print(launch_sites.to_string(index=False))"
   ]
  },
  {
   "cell_type": "code",
   "execution_count": 9,
   "id": "4c7119d5",
   "metadata": {},
   "outputs": [
    {
     "name": "stdout",
     "output_type": "stream",
     "text": [
      "\n",
      "Payload Mass Summary:\n",
      " avg_payload_mass  min_payload_mass  max_payload_mass\n",
      "         13830.19             758.0           17500.0\n"
     ]
    }
   ],
   "source": [
    "# 3.3 Payload mass distribution (summary statistics, without SQRT)\n",
    "payload_mass_query = \"\"\"\n",
    "SELECT\n",
    "    ROUND(AVG(payload_mass), 2) AS avg_payload_mass,\n",
    "    ROUND(MIN(payload_mass), 2) AS min_payload_mass,\n",
    "    ROUND(MAX(payload_mass), 2) AS max_payload_mass\n",
    "FROM launches\n",
    "WHERE payload_mass IS NOT NULL;\n",
    "\"\"\"\n",
    "payload_mass = pd.read_sql_query(payload_mass_query, conn)\n",
    "print(\"\\nPayload Mass Summary:\")\n",
    "print(payload_mass.to_string(index=False))"
   ]
  },
  {
   "cell_type": "code",
   "execution_count": 10,
   "id": "a0ad6a69",
   "metadata": {},
   "outputs": [
    {
     "name": "stdout",
     "output_type": "stream",
     "text": [
      "\n",
      "Launches by Orbit Type:\n",
      "                orbit  launch_count\n",
      "                  Leo           216\n",
      "                  Gto            19\n",
      "                  Sso            19\n",
      "             Leo(Iss)            15\n",
      "                  Meo             8\n",
      "             Polarleo             3\n",
      "                  Tli             3\n",
      "                  Geo             1\n",
      "         Heliocentric             1\n",
      "              Molniya             1\n",
      "    Polar(Retrograde)             1\n",
      "Sun–Earth L2Injection             1\n"
     ]
    }
   ],
   "source": [
    "# 3.4 Orbit type distribution\n",
    "orbit_query = \"\"\"\n",
    "SELECT orbit, COUNT(*) AS launch_count\n",
    "FROM launches\n",
    "GROUP BY orbit\n",
    "ORDER BY launch_count DESC;\n",
    "\"\"\"\n",
    "orbits = pd.read_sql_query(orbit_query, conn)\n",
    "print(\"\\nLaunches by Orbit Type:\")\n",
    "print(orbits.to_string(index=False))"
   ]
  },
  {
   "cell_type": "code",
   "execution_count": 11,
   "id": "efaa6642",
   "metadata": {},
   "outputs": [
    {
     "name": "stdout",
     "output_type": "stream",
     "text": [
      "\n",
      "Launches by Customer Type:\n",
      "customer_type  launch_count\n",
      "     Internal           199\n",
      "   Commercial            62\n",
      "   Government            27\n"
     ]
    }
   ],
   "source": [
    "# --- Step 4: Categorical Analysis ---\n",
    "# 4.1 Customer type distribution\n",
    "customer_type_query = \"\"\"\n",
    "SELECT customer_type, COUNT(*) AS launch_count\n",
    "FROM launches\n",
    "GROUP BY customer_type\n",
    "ORDER BY launch_count DESC;\n",
    "\"\"\"\n",
    "customer_types = pd.read_sql_query(customer_type_query, conn)\n",
    "print(\"\\nLaunches by Customer Type:\")\n",
    "print(customer_types.to_string(index=False))"
   ]
  },
  {
   "cell_type": "code",
   "execution_count": 12,
   "id": "42f77e1a",
   "metadata": {},
   "outputs": [
    {
     "name": "stdout",
     "output_type": "stream",
     "text": [
      "\n",
      "Success Rates (%):\n",
      " launch_success_rate  booster_landing_success_rate\n",
      "               99.65                         97.92\n"
     ]
    }
   ],
   "source": [
    "# 4.2 Success rates\n",
    "success_rate_query = \"\"\"\n",
    "SELECT\n",
    "    ROUND(SUM(CASE WHEN launch_outcome = 'Success' THEN 1 ELSE 0 END) * 100.0 / COUNT(*), 2) AS launch_success_rate,\n",
    "    ROUND(SUM(CASE WHEN booster_landing = 'Success' THEN 1 ELSE 0 END) * 100.0 / COUNT(*), 2) AS booster_landing_success_rate\n",
    "FROM launches;\n",
    "\"\"\"\n",
    "success_rates = pd.read_sql_query(success_rate_query, conn)\n",
    "print(\"\\nSuccess Rates (%):\")\n",
    "print(success_rates.to_string(index=False))"
   ]
  },
  {
   "cell_type": "code",
   "execution_count": 13,
   "id": "25d6d990",
   "metadata": {},
   "outputs": [
    {
     "name": "stdout",
     "output_type": "stream",
     "text": [
      "\n",
      "Starlink vs Non-Starlink Launches:\n",
      " is_starlink  launch_count\n",
      "           0            88\n",
      "           1           200\n"
     ]
    }
   ],
   "source": [
    "# 4.3 Starlink vs Non-Starlink launches\n",
    "starlink_query = \"\"\"\n",
    "SELECT is_starlink, COUNT(*) AS launch_count\n",
    "FROM launches\n",
    "GROUP BY is_starlink;\n",
    "\"\"\"\n",
    "starlink_data = pd.read_sql_query(starlink_query, conn)\n",
    "print(\"\\nStarlink vs Non-Starlink Launches:\")\n",
    "print(starlink_data.to_string(index=False))"
   ]
  },
  {
   "cell_type": "code",
   "execution_count": 14,
   "id": "1fcd946b",
   "metadata": {},
   "outputs": [
    {
     "name": "stdout",
     "output_type": "stream",
     "text": [
      "\n",
      "Crew vs Non-Crew Missions:\n",
      " is_crew_mission  launch_count\n",
      "               0           279\n",
      "               1             9\n"
     ]
    }
   ],
   "source": [
    "# 4.4 Crew vs Non-Crew missions\n",
    "crew_mission_query = \"\"\"\n",
    "SELECT is_crew_mission, COUNT(*) AS launch_count\n",
    "FROM launches\n",
    "GROUP BY is_crew_mission;\n",
    "\"\"\"\n",
    "crew_missions = pd.read_sql_query(crew_mission_query, conn)\n",
    "print(\"\\nCrew vs Non-Crew Missions:\")\n",
    "print(crew_missions.to_string(index=False))"
   ]
  },
  {
   "cell_type": "code",
   "execution_count": 15,
   "id": "b0729b85",
   "metadata": {},
   "outputs": [
    {
     "name": "stdout",
     "output_type": "stream",
     "text": [
      "\n",
      "Launches by Month:\n",
      " month  launch_count\n",
      "     1            30\n",
      "     2            27\n",
      "     3            31\n",
      "     4            32\n",
      "     5            36\n",
      "     6            17\n",
      "     7            13\n",
      "     8            20\n",
      "     9            18\n",
      "    10            18\n",
      "    11            25\n",
      "    12            21\n"
     ]
    }
   ],
   "source": [
    "# --- Step 5: Temporal Analysis ---\n",
    "# 5.1 Launches by month\n",
    "monthly_launches_query = \"\"\"\n",
    "SELECT month, COUNT(*) AS launch_count\n",
    "FROM launches\n",
    "GROUP BY month\n",
    "ORDER BY month;\n",
    "\"\"\"\n",
    "monthly_launches = pd.read_sql_query(monthly_launches_query, conn)\n",
    "print(\"\\nLaunches by Month:\")\n",
    "print(monthly_launches.to_string(index=False))"
   ]
  },
  {
   "cell_type": "code",
   "execution_count": 16,
   "id": "a9141acd",
   "metadata": {},
   "outputs": [
    {
     "name": "stdout",
     "output_type": "stream",
     "text": [
      "\n",
      "Night vs Day Launches:\n",
      " is_night_launch  launch_count\n",
      "               0           103\n",
      "               1           185\n"
     ]
    }
   ],
   "source": [
    "# 5.2 Night launches\n",
    "night_launch_query = \"\"\"\n",
    "SELECT is_night_launch, COUNT(*) AS launch_count\n",
    "FROM launches\n",
    "GROUP BY is_night_launch;\n",
    "\"\"\"\n",
    "night_launches = pd.read_sql_query(night_launch_query, conn)\n",
    "print(\"\\nNight vs Day Launches:\")\n",
    "print(night_launches.to_string(index=False))"
   ]
  },
  {
   "cell_type": "code",
   "execution_count": 17,
   "id": "50272f13",
   "metadata": {},
   "outputs": [
    {
     "name": "stdout",
     "output_type": "stream",
     "text": [
      "\n",
      "Launches by Launch Site with Coordinates:\n",
      "          launch_site  latitude  longitude  launch_count\n",
      "Cape Canaveral,Slc‑40   28.5620   -80.5772           147\n",
      "    Vandenberg,Slc‑4E   34.6320  -120.6108            94\n",
      "       Kennedy,Lc‑39A   28.6082   -80.6041            47\n"
     ]
    }
   ],
   "source": [
    "# --- Step 6: Spatial Analysis ---\n",
    "# 6.1 Launches by launch site with coordinates\n",
    "spatial_query = \"\"\"\n",
    "SELECT launch_site, latitude, longitude, COUNT(*) AS launch_count\n",
    "FROM launches\n",
    "GROUP BY launch_site, latitude, longitude\n",
    "ORDER BY launch_count DESC;\n",
    "\"\"\"\n",
    "spatial_data = pd.read_sql_query(spatial_query, conn)\n",
    "print(\"\\nLaunches by Launch Site with Coordinates:\")\n",
    "print(spatial_data.to_string(index=False))"
   ]
  },
  {
   "cell_type": "code",
   "execution_count": 18,
   "id": "69e5c870",
   "metadata": {},
   "outputs": [
    {
     "name": "stdout",
     "output_type": "stream",
     "text": [
      "\n",
      "Correlation between Payload Mass and Days Since Last Launch:\n",
      " correlation_coefficient\n",
      "                    -0.0\n"
     ]
    }
   ],
   "source": [
    "# --- Step 7: Correlation Analysis ---\n",
    "# 7.1 Correlation between payload_mass and days_since_last_launch (without SQRT)\n",
    "correlation_query = \"\"\"\n",
    "SELECT\n",
    "    ROUND(\n",
    "        (\n",
    "            AVG(payload_mass * days_since_last_launch) - \n",
    "            AVG(payload_mass) * AVG(days_since_last_launch)\n",
    "        ) / (\n",
    "            (\n",
    "                AVG(payload_mass * payload_mass) - AVG(payload_mass) * AVG(payload_mass)\n",
    "            ) * (\n",
    "                AVG(days_since_last_launch * days_since_last_launch) - \n",
    "                AVG(days_since_last_launch) * AVG(days_since_last_launch)\n",
    "            )\n",
    "        ) * (\n",
    "            CASE \n",
    "                WHEN (\n",
    "                    (AVG(payload_mass * payload_mass) - AVG(payload_mass) * AVG(payload_mass)) * \n",
    "                    (AVG(days_since_last_launch * days_since_last_launch) - AVG(days_since_last_launch) * AVG(days_since_last_launch))\n",
    "                ) < 0 THEN -1 \n",
    "                ELSE 1 \n",
    "            END\n",
    "        ), 4\n",
    "    ) AS correlation_coefficient\n",
    "FROM launches\n",
    "WHERE payload_mass IS NOT NULL AND days_since_last_launch IS NOT NULL;\n",
    "\"\"\"\n",
    "correlation = pd.read_sql_query(correlation_query, conn)\n",
    "print(\"\\nCorrelation between Payload Mass and Days Since Last Launch:\")\n",
    "print(correlation.to_string(index=False))"
   ]
  },
  {
   "cell_type": "code",
   "execution_count": 19,
   "id": "e56568da",
   "metadata": {},
   "outputs": [
    {
     "name": "stdout",
     "output_type": "stream",
     "text": [
      "\n",
      "EDA completed. Results printed above.\n"
     ]
    }
   ],
   "source": [
    "# --- Step 8: Close database connection ---\n",
    "conn.commit()\n",
    "conn.close()\n",
    "print(\"\\nEDA completed. Results printed above.\")"
   ]
  },
  {
   "cell_type": "code",
   "execution_count": null,
   "id": "8ca6888e",
   "metadata": {},
   "outputs": [],
   "source": []
  }
 ],
 "metadata": {
  "kernelspec": {
   "display_name": "Python 3 (ipykernel)",
   "language": "python",
   "name": "python3"
  },
  "language_info": {
   "codemirror_mode": {
    "name": "ipython",
    "version": 3
   },
   "file_extension": ".py",
   "mimetype": "text/x-python",
   "name": "python",
   "nbconvert_exporter": "python",
   "pygments_lexer": "ipython3",
   "version": "3.7.2"
  }
 },
 "nbformat": 4,
 "nbformat_minor": 5
}
