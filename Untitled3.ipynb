{
 "cells": [
  {
   "cell_type": "code",
   "execution_count": 15,
   "id": "54cc0e16",
   "metadata": {},
   "outputs": [],
   "source": [
    "import pandas as pd\n",
    "import numpy as np\n",
    "import pytz\n",
    "from datetime import datetime"
   ]
  },
  {
   "cell_type": "code",
   "execution_count": 16,
   "id": "75e31c96",
   "metadata": {},
   "outputs": [],
   "source": [
    "# Load data\n",
    "df = pd.read_csv('fully_wrangled_falcon_launches_v4.csv')\n",
    "df['date_and_time_utc'] = pd.to_datetime(df['date_and_time_utc'])"
   ]
  },
  {
   "cell_type": "code",
   "execution_count": 17,
   "id": "5d180594",
   "metadata": {},
   "outputs": [],
   "source": [
    "# Sort by date for temporal features\n",
    "df = df.sort_values('date_and_time_utc').reset_index(drop=True)"
   ]
  },
  {
   "cell_type": "code",
   "execution_count": 18,
   "id": "8a0011d5",
   "metadata": {},
   "outputs": [],
   "source": [
    "# 1. days_since_last_launch\n",
    "df['days_since_last_launch'] = df['date_and_time_utc'].diff().dt.total_seconds() / (24 * 3600)\n",
    "df['days_since_last_launch'] = df['days_since_last_launch'].fillna(0).astype('float32')"
   ]
  },
  {
   "cell_type": "code",
   "execution_count": 19,
   "id": "5c371f73",
   "metadata": {},
   "outputs": [],
   "source": [
    "# 2. is_starlink\n",
    "df['is_starlink'] = (\n",
    "    df['payload'].str.contains('Starlink', case=False, na=False) |\n",
    "    ((df['customer'] == 'Spacex') & (df['orbit'].isin(['Leo', 'Sso'])))\n",
    ").astype('bool')"
   ]
  },
  {
   "cell_type": "code",
   "execution_count": 20,
   "id": "e852dc4b",
   "metadata": {},
   "outputs": [],
   "source": [
    "# 3. booster_reuse_count\n",
    "df['booster_reuse_count'] = df.groupby('version_booster').cumcount().astype('int32')"
   ]
  },
  {
   "cell_type": "code",
   "execution_count": 21,
   "id": "b1f90844",
   "metadata": {},
   "outputs": [],
   "source": [
    "# 4. launch_site_encoded\n",
    "site_mapping = {\n",
    "    'Cape Canaveral,Slc‑40': 'CC_SLC40',\n",
    "    'Vandenberg,Slc‑4E': 'V_SLC4E',\n",
    "    'Kennedy,Lc‑39A': 'K_LC39A'\n",
    "}\n",
    "df['launch_site_encoded'] = df['launch_site'].map(site_mapping).astype('category')"
   ]
  },
  {
   "cell_type": "code",
   "execution_count": 22,
   "id": "cbc8e100",
   "metadata": {},
   "outputs": [],
   "source": [
    "# 5. payload_mass_category\n",
    "bins = [0, 5000, 15000, float('inf')]\n",
    "labels = ['Light', 'Medium', 'Heavy']\n",
    "df['payload_mass_category'] = pd.cut(\n",
    "    df['payload_mass'], bins=bins, labels=labels, include_lowest=True\n",
    ").astype('category')"
   ]
  },
  {
   "cell_type": "code",
   "execution_count": 23,
   "id": "9c70b85f",
   "metadata": {},
   "outputs": [],
   "source": [
    "# 6. is_crew_mission\n",
    "df['is_crew_mission'] = (\n",
    "    df['payload'].str.contains('Crew|Ax-', case=False, na=False) |\n",
    "    (df['customer'].str.contains('Nasa\\(Cts\\)|Axiom Space', case=False, na=False) &\n",
    "     (df['orbit'] == 'Leo(Iss)'))\n",
    ").astype('bool')"
   ]
  },
  {
   "cell_type": "code",
   "execution_count": 24,
   "id": "1540d8f8",
   "metadata": {},
   "outputs": [],
   "source": [
    "# 7. orbit_type_encoded\n",
    "orbit_mapping = {\n",
    "    'Leo': 'Low_Earth', 'Sso': 'Low_Earth', 'Polarleo': 'Low_Earth',\n",
    "    'Gto': 'Geostationary', 'Geo': 'Geostationary',\n",
    "    'Meo': 'Medium_Earth',\n",
    "    'Tli': 'Deep_Space', 'Heliocentric': 'Deep_Space', 'Sun–Earth L2Injection': 'Deep_Space'\n",
    "}\n",
    "df['orbit_type_encoded'] = df['orbit'].map(orbit_mapping).astype('category')"
   ]
  },
  {
   "cell_type": "code",
   "execution_count": 26,
   "id": "97858ac3",
   "metadata": {},
   "outputs": [],
   "source": [
    "# 8. is_night_launch \n",
    "def is_night_launch(row):\n",
    "    utc_time = row['date_and_time_utc']\n",
    "    # Localize to UTC first\n",
    "    utc_time = utc_time.tz_localize('UTC')\n",
    "    if row['launch_site'] in ['Cape Canaveral,Slc‑40', 'Kennedy,Lc‑39A']:\n",
    "        local_time = utc_time.astimezone(pytz.timezone('America/New_York'))\n",
    "    else:  # Vandenberg\n",
    "        local_time = utc_time.astimezone(pytz.timezone('America/Los_Angeles'))\n",
    "    return 18 <= local_time.hour or local_time.hour < 6\n",
    "\n",
    "df['is_night_launch'] = df.apply(is_night_launch, axis=1).astype('bool')"
   ]
  },
  {
   "cell_type": "code",
   "execution_count": 27,
   "id": "1f3f0542",
   "metadata": {},
   "outputs": [],
   "source": [
    "# 9. cumulative_launch_count\n",
    "df['cumulative_launch_count'] = np.arange(1, len(df) + 1).astype('int32')"
   ]
  },
  {
   "cell_type": "code",
   "execution_count": 28,
   "id": "4eebcd2c",
   "metadata": {},
   "outputs": [],
   "source": [
    "# 10. customer_type\n",
    "def get_customer_type(customer):\n",
    "    if customer == 'Spacex':\n",
    "        return 'Internal'\n",
    "    if customer in ['Nasa(Cts)', 'Nasa(Crs)', 'Nasa(Lsp)', 'Nasa(Ccp)', 'Ussf', 'Nro', 'Sda']:\n",
    "        return 'Government'\n",
    "    return 'Commercial'\n",
    "\n",
    "df['customer_type'] = df['customer'].apply(get_customer_type).astype('category')"
   ]
  },
  {
   "cell_type": "code",
   "execution_count": 29,
   "id": "cbc514d5",
   "metadata": {},
   "outputs": [],
   "source": [
    "# 11. launch_success_rate_rolling\n",
    "df['launch_success_rate_rolling'] = (\n",
    "    df['launch_outcome'].eq('Success').shift(1).rolling(window=10, min_periods=1).mean()\n",
    ").fillna(1.0).astype('float32')"
   ]
  },
  {
   "cell_type": "code",
   "execution_count": 30,
   "id": "84da0078",
   "metadata": {},
   "outputs": [],
   "source": [
    "# 12. booster_landing_success_rate\n",
    "def compute_booster_landing_rate(group):\n",
    "    return group.eq('Success').shift(1).expanding().mean().fillna(1.0)\n",
    "\n",
    "df['booster_landing_success_rate'] = df.groupby('version_booster')['booster_landing'].apply(\n",
    "    compute_booster_landing_rate\n",
    ").astype('float32')"
   ]
  },
  {
   "cell_type": "code",
   "execution_count": 31,
   "id": "771f0f19",
   "metadata": {},
   "outputs": [
    {
     "name": "stdout",
     "output_type": "stream",
     "text": [
      "Feature Validation:\n",
      "\n",
      "days_since_last_launch Summary:\n",
      "count    288.000000\n",
      "mean       3.048999\n",
      "std        2.259413\n",
      "min        0.000000\n",
      "25%        1.231944\n",
      "50%        2.871875\n",
      "75%        4.274653\n",
      "max       15.131945\n",
      "Name: days_since_last_launch, dtype: float64\n",
      "\n",
      "booster_reuse_count Summary:\n",
      "count    288.0\n",
      "mean       0.0\n",
      "std        0.0\n",
      "min        0.0\n",
      "25%        0.0\n",
      "50%        0.0\n",
      "75%        0.0\n",
      "max        0.0\n",
      "Name: booster_reuse_count, dtype: float64\n",
      "\n",
      "cumulative_launch_count Summary:\n",
      "count    288.000000\n",
      "mean     144.500000\n",
      "std       83.282651\n",
      "min        1.000000\n",
      "25%       72.750000\n",
      "50%      144.500000\n",
      "75%      216.250000\n",
      "max      288.000000\n",
      "Name: cumulative_launch_count, dtype: float64\n",
      "\n",
      "launch_success_rate_rolling Summary:\n",
      "count    288.000000\n",
      "mean       0.996528\n",
      "std        0.018339\n",
      "min        0.900000\n",
      "25%        1.000000\n",
      "50%        1.000000\n",
      "75%        1.000000\n",
      "max        1.000000\n",
      "Name: launch_success_rate_rolling, dtype: float64\n",
      "\n",
      "booster_landing_success_rate Summary:\n",
      "count    288.0\n",
      "mean       1.0\n",
      "std        0.0\n",
      "min        1.0\n",
      "25%        1.0\n",
      "50%        1.0\n",
      "75%        1.0\n",
      "max        1.0\n",
      "Name: booster_landing_success_rate, dtype: float64\n",
      "\n",
      "is_starlink Counts:\n",
      "True     200\n",
      "False     88\n",
      "Name: is_starlink, dtype: int64\n",
      "\n",
      "is_crew_mission Counts:\n",
      "False    279\n",
      "True       9\n",
      "Name: is_crew_mission, dtype: int64\n",
      "\n",
      "is_night_launch Counts:\n",
      "True     185\n",
      "False    103\n",
      "Name: is_night_launch, dtype: int64\n",
      "\n",
      "launch_site_encoded Counts:\n",
      "CC_SLC40    147\n",
      "V_SLC4E      94\n",
      "K_LC39A      47\n",
      "Name: launch_site_encoded, dtype: int64\n",
      "\n",
      "payload_mass_category Counts:\n",
      "Heavy     213\n",
      "Light      45\n",
      "Medium     30\n",
      "Name: payload_mass_category, dtype: int64\n",
      "\n",
      "orbit_type_encoded Counts:\n",
      "Low_Earth        238\n",
      "Geostationary     20\n",
      "Medium_Earth       8\n",
      "Deep_Space         5\n",
      "Name: orbit_type_encoded, dtype: int64\n",
      "\n",
      "customer_type Counts:\n",
      "Internal      199\n",
      "Commercial     62\n",
      "Government     27\n",
      "Name: customer_type, dtype: int64\n"
     ]
    }
   ],
   "source": [
    "# Validate features\n",
    "print(\"Feature Validation:\")\n",
    "for col in ['days_since_last_launch', 'booster_reuse_count', 'cumulative_launch_count',\n",
    "            'launch_success_rate_rolling', 'booster_landing_success_rate']:\n",
    "    print(f\"\\n{col} Summary:\")\n",
    "    print(df[col].describe())\n",
    "for col in ['is_starlink', 'is_crew_mission', 'is_night_launch', 'launch_site_encoded',\n",
    "            'payload_mass_category', 'orbit_type_encoded', 'customer_type']:\n",
    "    print(f\"\\n{col} Counts:\")\n",
    "    print(df[col].value_counts())"
   ]
  },
  {
   "cell_type": "code",
   "execution_count": 32,
   "id": "18872f97",
   "metadata": {},
   "outputs": [],
   "source": [
    "# Optimize data types\n",
    "dtypes = {\n",
    "    'days_since_last_launch': 'float32',\n",
    "    'is_starlink': 'bool',\n",
    "    'booster_reuse_count': 'int32',\n",
    "    'launch_site_encoded': 'category',\n",
    "    'payload_mass_category': 'category',\n",
    "    'is_crew_mission': 'bool',\n",
    "    'orbit_type_encoded': 'category',\n",
    "    'is_night_launch': 'bool',\n",
    "    'cumulative_launch_count': 'int32',\n",
    "    'customer_type': 'category',\n",
    "    'launch_success_rate_rolling': 'float32',\n",
    "    'booster_landing_success_rate': 'float32'\n",
    "}\n",
    "df = df.astype(dtypes)"
   ]
  },
  {
   "cell_type": "code",
   "execution_count": 33,
   "id": "b3c1a353",
   "metadata": {},
   "outputs": [
    {
     "name": "stdout",
     "output_type": "stream",
     "text": [
      "\n",
      "Updated dataset saved to 'fully_wrangled_falcon_launches_v6.csv'\n"
     ]
    }
   ],
   "source": [
    "# Save updated dataset\n",
    "df.to_csv('fully_wrangled_falcon_launches_v6.csv', index=False)\n",
    "print(\"\\nUpdated dataset saved to 'fully_wrangled_falcon_launches_v6.csv'\")"
   ]
  },
  {
   "cell_type": "code",
   "execution_count": null,
   "id": "d0ce026a",
   "metadata": {},
   "outputs": [],
   "source": []
  }
 ],
 "metadata": {
  "kernelspec": {
   "display_name": "Python 3 (ipykernel)",
   "language": "python",
   "name": "python3"
  },
  "language_info": {
   "codemirror_mode": {
    "name": "ipython",
    "version": 3
   },
   "file_extension": ".py",
   "mimetype": "text/x-python",
   "name": "python",
   "nbconvert_exporter": "python",
   "pygments_lexer": "ipython3",
   "version": "3.7.2"
  }
 },
 "nbformat": 4,
 "nbformat_minor": 5
}
