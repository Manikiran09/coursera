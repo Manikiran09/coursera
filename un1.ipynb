{
 "cells": [
  {
   "cell_type": "markdown",
   "id": "f9d69bb1",
   "metadata": {},
   "source": [
    "# 1.Importing required libraries for data collection -scraping"
   ]
  },
  {
   "cell_type": "code",
   "execution_count": 2,
   "id": "4601a173",
   "metadata": {},
   "outputs": [],
   "source": [
    "import requests\n",
    "from bs4 import BeautifulSoup\n",
    "import pandas as pd\n",
    "import re"
   ]
  },
  {
   "cell_type": "code",
   "execution_count": 3,
   "id": "02a7d52c",
   "metadata": {},
   "outputs": [],
   "source": [
    "url = \"https://en.wikipedia.org/wiki/List_of_Falcon_9_and_Falcon_Heavy_launches\""
   ]
  },
  {
   "cell_type": "markdown",
   "id": "5ac3482e",
   "metadata": {},
   "source": [
    "# 2 .Send a GET request to fetch the page content"
   ]
  },
  {
   "cell_type": "code",
   "execution_count": 4,
   "id": "ecd1785d",
   "metadata": {},
   "outputs": [],
   "source": [
    "# Send a GET request to fetch the page content\n",
    "response = requests.get(url)\n",
    "response.raise_for_status()  # Raise an error for bad status codes"
   ]
  },
  {
   "cell_type": "markdown",
   "id": "2bf56caf",
   "metadata": {},
   "source": [
    "# 3 .Parse the HTML content using BeautifulSoup"
   ]
  },
  {
   "cell_type": "code",
   "execution_count": 5,
   "id": "858199b9",
   "metadata": {},
   "outputs": [],
   "source": [
    "# Parse the HTML content using BeautifulSoup\n",
    "soup = BeautifulSoup(response.text, 'html.parser')"
   ]
  },
  {
   "cell_type": "markdown",
   "id": "dda31c1a",
   "metadata": {},
   "source": [
    "# 4. Find all tables with class 'wikitable'"
   ]
  },
  {
   "cell_type": "code",
   "execution_count": 6,
   "id": "69004422",
   "metadata": {},
   "outputs": [],
   "source": [
    "# Find all tables with class 'wikitable'\n",
    "tables = soup.find_all('table', class_='wikitable')"
   ]
  },
  {
   "cell_type": "markdown",
   "id": "4a4ba3ac",
   "metadata": {},
   "source": [
    "# Initialize an empty list to store launch data\n"
   ]
  },
  {
   "cell_type": "code",
   "execution_count": 7,
   "id": "e2e47b21",
   "metadata": {},
   "outputs": [],
   "source": [
    "# Initialize an empty list to store launch data\n",
    "launch_data = []"
   ]
  },
  {
   "cell_type": "markdown",
   "id": "b7eca3e7",
   "metadata": {},
   "source": [
    "# Define column headers based on typical table structure"
   ]
  },
  {
   "cell_type": "code",
   "execution_count": 8,
   "id": "3d067d55",
   "metadata": {},
   "outputs": [],
   "source": [
    "# Define column headers based on typical table structure\n",
    "headers = [\n",
    "    'Flight No.', 'Date and time (UTC)', 'Version, Booster', 'Launch site', \n",
    "    'Payload', 'Payload mass', 'Orbit', 'Customer', \n",
    "    'Launch outcome', 'Booster landing'\n",
    "]\n"
   ]
  },
  {
   "cell_type": "markdown",
   "id": "cbb6d712",
   "metadata": {},
   "source": [
    "# process each table"
   ]
  },
  {
   "cell_type": "code",
   "execution_count": 9,
   "id": "c8df4d26",
   "metadata": {},
   "outputs": [],
   "source": [
    "#process each table\n",
    "for table in tables:\n",
    "    # Extract table rows\n",
    "    rows = table.find_all('tr')\n",
    "    \n",
    "    # Skip the header row and process data rows\n",
    "    for row in rows[1:]:\n",
    "        cols = row.find_all(['td', 'th'])\n",
    "        row_data = []\n",
    "        \n",
    "        # Extract text from each cell, handling rowspan and colspan\n",
    "        for col in cols:\n",
    "            text = col.get_text(strip=True)\n",
    "            # Clean up text: remove reference tags like [123], superscripts, and extra whitespace\n",
    "            text = re.sub(r'\\[\\d+\\]', '', text)  # Remove [123] references\n",
    "            text = re.sub(r'\\s+', ' ', text)  # Normalize whitespace\n",
    "            row_data.append(text.strip())\n",
    "        \n",
    "        # Ensure the row has the expected number of columns\n",
    "        # If fewer columns, fill with None (handles merged cells or incomplete rows)\n",
    "        while len(row_data) < len(headers):\n",
    "            row_data.append(None)\n",
    "        \n",
    "        # If row has data, append to launch_data\n",
    "        if row_data and any(row_data):  # Check if row has non-empty values\n",
    "            launch_data.append(row_data)"
   ]
  },
  {
   "cell_type": "code",
   "execution_count": 10,
   "id": "e07c584b",
   "metadata": {},
   "outputs": [],
   "source": [
    "# Create a Pandas DataFrame\n",
    "df = pd.DataFrame(launch_data, columns=headers)\n"
   ]
  },
  {
   "cell_type": "code",
   "execution_count": 11,
   "id": "cff0b1cb",
   "metadata": {},
   "outputs": [],
   "source": [
    "# Clean the DataFrame\n",
    "# Remove rows where 'Flight No.' is None or empty\n",
    "df = df[df['Flight No.'].notna() & (df['Flight No.'] != '')]"
   ]
  },
  {
   "cell_type": "code",
   "execution_count": 11,
   "id": "3842a84d",
   "metadata": {},
   "outputs": [],
   "source": [
    "launch_df.to_csv(\"wikipedia_falcon9_launches.csv\", index=False)\n"
   ]
  },
  {
   "cell_type": "code",
   "execution_count": 12,
   "id": "30461303",
   "metadata": {},
   "outputs": [],
   "source": [
    "# Clean 'Date and time (UTC)' column: remove extra annotations and standardize\n",
    "df['Date and time (UTC)'] = df['Date and time (UTC)'].str.replace(r'\\[\\d+\\]', '', regex=True)\n",
    "df['Date and time (UTC)'] = df['Date and time (UTC)'].str.strip()\n"
   ]
  },
  {
   "cell_type": "code",
   "execution_count": 13,
   "id": "159b147f",
   "metadata": {},
   "outputs": [],
   "source": [
    "# Clean 'Payload mass' column: remove annotations, extract numeric value\n",
    "df['Payload mass'] = df['Payload mass'].str.replace(r'\\[\\w+\\]', '', regex=True)  # Remove [h], etc.\n",
    "df['Payload mass'] = df['Payload mass'].str.replace(r'~', '', regex=True)  # Remove ~\n",
    "df['Payload mass'] = df['Payload mass'].str.replace(r'kg.*', '', regex=True)  # Remove 'kg' and after\n",
    "df['Payload mass'] = df['Payload mass'].str.replace(r',', '', regex=True)  # Remove commas\n",
    "df['Payload mass'] = pd.to_numeric(df['Payload mass'], errors='coerce')  # Convert to numeric"
   ]
  },
  {
   "cell_type": "code",
   "execution_count": 15,
   "id": "fbcf8b3e",
   "metadata": {},
   "outputs": [
    {
     "data": {
      "text/html": [
       "<div>\n",
       "<style scoped>\n",
       "    .dataframe tbody tr th:only-of-type {\n",
       "        vertical-align: middle;\n",
       "    }\n",
       "\n",
       "    .dataframe tbody tr th {\n",
       "        vertical-align: top;\n",
       "    }\n",
       "\n",
       "    .dataframe thead th {\n",
       "        text-align: right;\n",
       "    }\n",
       "</style>\n",
       "<table border=\"1\" class=\"dataframe\">\n",
       "  <thead>\n",
       "    <tr style=\"text-align: right;\">\n",
       "      <th></th>\n",
       "      <th>Flight No.</th>\n",
       "      <th>Date and time (UTC)</th>\n",
       "      <th>Version, Booster</th>\n",
       "      <th>Launch site</th>\n",
       "      <th>Payload</th>\n",
       "      <th>Payload mass</th>\n",
       "      <th>Orbit</th>\n",
       "      <th>Customer</th>\n",
       "      <th>Launch outcome</th>\n",
       "      <th>Booster landing</th>\n",
       "    </tr>\n",
       "  </thead>\n",
       "  <tbody>\n",
       "    <tr>\n",
       "      <th>0</th>\n",
       "      <td>195</td>\n",
       "      <td>January 3, 202314:56</td>\n",
       "      <td>F9B5B1060‑15</td>\n",
       "      <td>Cape Canaveral,SLC‑40</td>\n",
       "      <td>Transporter-6(115 payload smallsat rideshare)</td>\n",
       "      <td>NaN</td>\n",
       "      <td>SSO</td>\n",
       "      <td>Various</td>\n",
       "      <td>Success</td>\n",
       "      <td>Success (LZ‑1)</td>\n",
       "    </tr>\n",
       "    <tr>\n",
       "      <th>1</th>\n",
       "      <td>Dedicated SmallSat Rideshare mission to Sun-sy...</td>\n",
       "      <td>None</td>\n",
       "      <td>None</td>\n",
       "      <td>None</td>\n",
       "      <td>None</td>\n",
       "      <td>NaN</td>\n",
       "      <td>None</td>\n",
       "      <td>None</td>\n",
       "      <td>None</td>\n",
       "      <td>None</td>\n",
       "    </tr>\n",
       "    <tr>\n",
       "      <th>2</th>\n",
       "      <td>196</td>\n",
       "      <td>January 10, 202304:50</td>\n",
       "      <td>F9B5B1076‑2</td>\n",
       "      <td>Cape Canaveral,SLC‑40</td>\n",
       "      <td>OneWeb 16(40 satellites)</td>\n",
       "      <td>6000.0</td>\n",
       "      <td>PolarLEO</td>\n",
       "      <td>OneWeb</td>\n",
       "      <td>Success</td>\n",
       "      <td>Success (LZ‑1)</td>\n",
       "    </tr>\n",
       "    <tr>\n",
       "      <th>3</th>\n",
       "      <td>Following theRussian invasion of Ukraine, OneW...</td>\n",
       "      <td>None</td>\n",
       "      <td>None</td>\n",
       "      <td>None</td>\n",
       "      <td>None</td>\n",
       "      <td>NaN</td>\n",
       "      <td>None</td>\n",
       "      <td>None</td>\n",
       "      <td>None</td>\n",
       "      <td>None</td>\n",
       "    </tr>\n",
       "    <tr>\n",
       "      <th>4</th>\n",
       "      <td>FH 5</td>\n",
       "      <td>January 15, 202322:56</td>\n",
       "      <td>Falcon HeavyB5B1070(core)</td>\n",
       "      <td>Kennedy,LC‑39A</td>\n",
       "      <td>USSF-67(CBAS-2&amp;LDPE-3A)</td>\n",
       "      <td>3750.0</td>\n",
       "      <td>GEO</td>\n",
       "      <td>USSF</td>\n",
       "      <td>Success</td>\n",
       "      <td>No attempt</td>\n",
       "    </tr>\n",
       "  </tbody>\n",
       "</table>\n",
       "</div>"
      ],
      "text/plain": [
       "                                          Flight No.    Date and time (UTC)  \\\n",
       "0                                                195   January 3, 202314:56   \n",
       "1  Dedicated SmallSat Rideshare mission to Sun-sy...                   None   \n",
       "2                                                196  January 10, 202304:50   \n",
       "3  Following theRussian invasion of Ukraine, OneW...                   None   \n",
       "4                                               FH 5  January 15, 202322:56   \n",
       "\n",
       "            Version, Booster            Launch site  \\\n",
       "0               F9B5B1060‑15  Cape Canaveral,SLC‑40   \n",
       "1                       None                   None   \n",
       "2                F9B5B1076‑2  Cape Canaveral,SLC‑40   \n",
       "3                       None                   None   \n",
       "4  Falcon HeavyB5B1070(core)         Kennedy,LC‑39A   \n",
       "\n",
       "                                         Payload  Payload mass     Orbit  \\\n",
       "0  Transporter-6(115 payload smallsat rideshare)           NaN       SSO   \n",
       "1                                           None           NaN      None   \n",
       "2                       OneWeb 16(40 satellites)        6000.0  PolarLEO   \n",
       "3                                           None           NaN      None   \n",
       "4                        USSF-67(CBAS-2&LDPE-3A)        3750.0       GEO   \n",
       "\n",
       "  Customer Launch outcome Booster landing  \n",
       "0  Various        Success  Success (LZ‑1)  \n",
       "1     None           None            None  \n",
       "2   OneWeb        Success  Success (LZ‑1)  \n",
       "3     None           None            None  \n",
       "4     USSF        Success      No attempt  "
      ]
     },
     "execution_count": 15,
     "metadata": {},
     "output_type": "execute_result"
    }
   ],
   "source": [
    "df.head()\n"
   ]
  },
  {
   "cell_type": "markdown",
   "id": "b8b95828",
   "metadata": {},
   "source": [
    "# 5. Last step is to save the csv file inorder to take further steps"
   ]
  },
  {
   "cell_type": "code",
   "execution_count": 16,
   "id": "d36afe35",
   "metadata": {},
   "outputs": [],
   "source": [
    "# Save the DataFrame to a CSV file\n",
    "df.to_csv('falcon_launches.csv', index=False)"
   ]
  },
  {
   "cell_type": "code",
   "execution_count": null,
   "id": "cdc596f8",
   "metadata": {},
   "outputs": [],
   "source": []
  }
 ],
 "metadata": {
  "kernelspec": {
   "display_name": "Python 3 (ipykernel)",
   "language": "python",
   "name": "python3"
  },
  "language_info": {
   "codemirror_mode": {
    "name": "ipython",
    "version": 3
   },
   "file_extension": ".py",
   "mimetype": "text/x-python",
   "name": "python",
   "nbconvert_exporter": "python",
   "pygments_lexer": "ipython3",
   "version": "3.7.2"
  }
 },
 "nbformat": 4,
 "nbformat_minor": 5
}
