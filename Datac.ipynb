{
 "cells": [
  {
   "cell_type": "markdown",
   "id": "d61b3499",
   "metadata": {},
   "source": [
    "# 1. importing the modules required for data collection"
   ]
  },
  {
   "cell_type": "code",
   "execution_count": 4,
   "id": "72de4b72",
   "metadata": {},
   "outputs": [],
   "source": [
    "import json\n",
    "import pandas as pd\n"
   ]
  },
  {
   "cell_type": "markdown",
   "id": "965bebb7",
   "metadata": {},
   "source": [
    "# 2. i have downloaded launches.json separately and opened and loaded into data using json module"
   ]
  },
  {
   "cell_type": "code",
   "execution_count": 5,
   "id": "e42a56cd",
   "metadata": {},
   "outputs": [],
   "source": [
    "with open('launches.json', 'r') as file:\n",
    "    data = json.load(file)"
   ]
  },
  {
   "cell_type": "markdown",
   "id": "afbecd7b",
   "metadata": {},
   "source": [
    "# 3. Now normalizing the data loaded inorder to work with it "
   ]
  },
  {
   "cell_type": "code",
   "execution_count": 6,
   "id": "d7e52f29",
   "metadata": {},
   "outputs": [],
   "source": [
    "df = pd.json_normalize(data)"
   ]
  },
  {
   "cell_type": "markdown",
   "id": "33fa0d47",
   "metadata": {},
   "source": [
    "# 4. Now saving the data and converting to csv(comma seperated file) for future"
   ]
  },
  {
   "cell_type": "code",
   "execution_count": 7,
   "id": "46b742ee",
   "metadata": {},
   "outputs": [],
   "source": [
    "df.to_csv(\"spacex_launches_raw.csv\", index=False)"
   ]
  },
  {
   "cell_type": "code",
   "execution_count": null,
   "id": "6e4ea1fd",
   "metadata": {},
   "outputs": [],
   "source": [
    " "
   ]
  }
 ],
 "metadata": {
  "kernelspec": {
   "display_name": "Python 3 (ipykernel)",
   "language": "python",
   "name": "python3"
  },
  "language_info": {
   "codemirror_mode": {
    "name": "ipython",
    "version": 3
   },
   "file_extension": ".py",
   "mimetype": "text/x-python",
   "name": "python",
   "nbconvert_exporter": "python",
   "pygments_lexer": "ipython3",
   "version": "3.7.2"
  }
 },
 "nbformat": 4,
 "nbformat_minor": 5
}
